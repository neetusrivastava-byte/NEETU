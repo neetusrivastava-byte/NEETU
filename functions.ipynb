{
  "nbformat": 4,
  "nbformat_minor": 0,
  "metadata": {
    "colab": {
      "provenance": []
    },
    "kernelspec": {
      "name": "python3",
      "display_name": "Python 3"
    },
    "language_info": {
      "name": "python"
    }
  },
  "cells": [
    {
      "cell_type": "markdown",
      "source": [
        "sevtbliiu"
      ],
      "metadata": {
        "id": "m4fd7CRt1sG_"
      }
    },
    {
      "cell_type": "code",
      "execution_count": null,
      "metadata": {
        "id": "X-CX6d1V1m3a"
      },
      "outputs": [],
      "source": [
        "hvr7btyi"
      ]
    }
  ]
}